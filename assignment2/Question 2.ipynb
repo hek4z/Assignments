{
 "cells": [
  {
   "cell_type": "markdown",
   "metadata": {},
   "source": [
    "## Question 2\n",
    "\n",
    "## Part 1"
   ]
  },
  {
   "cell_type": "code",
   "execution_count": 1,
   "metadata": {},
   "outputs": [
    {
     "name": "stdout",
     "output_type": "stream",
     "text": [
      "Host Id                         int64\n",
      "Host Since                     object\n",
      "Name                           object\n",
      "Neighbourhood                  object\n",
      "Property Type                  object\n",
      "Review Scores Rating (bin)    float64\n",
      "Room Type                      object\n",
      "Zipcode                       float64\n",
      "Beds                          float64\n",
      "Number of Records               int64\n",
      "Number Of Reviews               int64\n",
      "Price                          object\n",
      "Review Scores Rating          float64\n",
      "dtype: object\n"
     ]
    }
   ],
   "source": [
    "# Part 1\n",
    "\n",
    "import pandas as pd\n",
    "import numpy as np\n",
    "df = pd.read_csv('./data/airbnb_hw.csv')\n",
    "print(df.dtypes)      # now we know that price is an object"
   ]
  },
  {
   "cell_type": "code",
   "execution_count": 91,
   "metadata": {},
   "outputs": [
    {
     "name": "stdout",
     "output_type": "stream",
     "text": [
      "        Host Id Price\n",
      "0       5162530   145\n",
      "1      33134899    37\n",
      "2      39608626    28\n",
      "3           500   199\n",
      "4           500   549\n",
      "...         ...   ...\n",
      "30473  43022976   300\n",
      "30474  42993382   125\n",
      "30475  43033067    80\n",
      "30476  43000991    35\n",
      "30477  42999189    80\n",
      "\n",
      "[30478 rows x 2 columns]\n",
      "Host Id     int64\n",
      "Price      object\n",
      "dtype: object\n"
     ]
    }
   ],
   "source": [
    "selection = df[['Host Id','Price']]\n",
    "print(selection)\n",
    "print(selection.dtypes)"
   ]
  },
  {
   "cell_type": "code",
   "execution_count": 92,
   "metadata": {},
   "outputs": [
    {
     "name": "stdout",
     "output_type": "stream",
     "text": [
      "       Host Id  Price\n",
      "0        False  False\n",
      "1        False  False\n",
      "2        False  False\n",
      "3        False  False\n",
      "4        False  False\n",
      "...        ...    ...\n",
      "30473    False  False\n",
      "30474    False  False\n",
      "30475    False  False\n",
      "30476    False  False\n",
      "30477    False  False\n",
      "\n",
      "[30478 rows x 2 columns]\n",
      "\n",
      "\n",
      "Host Id    0\n",
      "Price      0\n",
      "dtype: int64\n",
      "no NAN\n"
     ]
    }
   ],
   "source": [
    "nan_indices = selection.isna()  # i used this block of code to see if there were any NANs in the price data. looking like no\n",
    "print(nan_indices)\n",
    "print('\\n')\n",
    "summ = nan_indices.sum()\n",
    "print(summ)\n",
    "if True in nan_indices:\n",
    "    print(\"NAN in set\")\n",
    "else: \n",
    "    print(\"no NAN\")"
   ]
  },
  {
   "cell_type": "code",
   "execution_count": 120,
   "metadata": {},
   "outputs": [
    {
     "name": "stdout",
     "output_type": "stream",
     "text": [
      "[]\n",
      "0        145\n",
      "1         37\n",
      "2         28\n",
      "3        199\n",
      "4        549\n",
      "        ... \n",
      "30473    300\n",
      "30474    125\n",
      "30475     80\n",
      "30476     35\n",
      "30477     80\n",
      "Name: Price, Length: 30478, dtype: int64\n",
      "next thing\n",
      "\n"
     ]
    },
    {
     "name": "stderr",
     "output_type": "stream",
     "text": [
      "<ipython-input-120-ad3e4eac1017>:14: SettingWithCopyWarning: \n",
      "A value is trying to be set on a copy of a slice from a DataFrame.\n",
      "Try using .loc[row_indexer,col_indexer] = value instead\n",
      "\n",
      "See the caveats in the documentation: https://pandas.pydata.org/pandas-docs/stable/user_guide/indexing.html#returning-a-view-versus-a-copy\n",
      "  selection['Price'] = selection['Price'].astype(int)\n"
     ]
    }
   ],
   "source": [
    "# price_nan= df['Price'] = pd.to_numeric(df['Price'], errors='coerce').fillna(0).astype(int)\n",
    "# print(price_nan)\n",
    "\n",
    "comma_cols=[]\n",
    "for col in selection.columns:\n",
    "    if selection[col].dtype == 'object':\n",
    "        if selection[col].str.contains(',').any():\n",
    "            comma_cols.append(col)\n",
    "print(comma_cols)\n",
    "\n",
    "for col in comma_cols:\n",
    "    selection[col] = selection[col].str.replace(',', '')\n",
    "\n",
    "selection['Price'] = selection['Price'].astype(int)\n",
    "print(selection['Price'])\n",
    "print(\"next thing\\n\")\n",
    "\n",
    "# count = 0    \n",
    "# over_thous = []\n",
    "# for i in selection['Price']: \n",
    "#     count+=1\n",
    "#     if i>999:\n",
    "#         over_thous.append(count)\n",
    "#     else:\n",
    "#         continue\n",
    "# print(over_thous)"
   ]
  },
  {
   "cell_type": "markdown",
   "metadata": {},
   "source": [
    "## Part 2"
   ]
  },
  {
   "cell_type": "code",
   "execution_count": 132,
   "metadata": {},
   "outputs": [
    {
     "name": "stdout",
     "output_type": "stream",
     "text": [
      "index             int64\n",
      "Case Number      object\n",
      "Date             object\n",
      "Year            float64\n",
      "Type             object\n",
      "                 ...   \n",
      "Unnamed: 251    float64\n",
      "Unnamed: 252    float64\n",
      "Unnamed: 253    float64\n",
      "Unnamed: 254    float64\n",
      "Unnamed: 255    float64\n",
      "Length: 257, dtype: object\n",
      "             Type\n",
      "150       Boating\n",
      "151      Provoked\n",
      "152    Unprovoked\n",
      "153       Invalid\n",
      "154    Unprovoked\n",
      "155      Provoked\n",
      "156    Unprovoked\n",
      "157    Unprovoked\n",
      "158    Unprovoked\n",
      "159    Unprovoked\n",
      "160    Unprovoked\n",
      "161      Provoked\n",
      "162    Unprovoked\n",
      "163    Unprovoked\n",
      "164       Invalid\n",
      "165      Provoked\n",
      "166    Unprovoked\n",
      "167  Questionable\n",
      "168    Unprovoked\n",
      "169      Provoked\n",
      "170    Unprovoked\n",
      "171    Unprovoked\n",
      "172  Questionable\n",
      "173    Unprovoked\n",
      "174    Unprovoked\n",
      "175    Unprovoked\n",
      "176    Unprovoked\n",
      "177    Unprovoked\n",
      "178    Unprovoked\n",
      "179    Unprovoked\n",
      "180    Unprovoked\n",
      "181    Unprovoked\n",
      "182    Unprovoked\n",
      "183       Invalid\n",
      "184    Unprovoked\n",
      "185    Unprovoked\n",
      "186    Unprovoked\n",
      "187    Unprovoked\n",
      "188    Unprovoked\n",
      "189    Unprovoked\n",
      "190    Unprovoked\n",
      "191    Unprovoked\n",
      "192    Unprovoked\n",
      "193      Provoked\n",
      "194    Unprovoked\n",
      "195       Invalid\n",
      "196       Invalid\n",
      "197    Unprovoked\n",
      "198       Invalid\n",
      "199    Unprovoked \n",
      "\n"
     ]
    }
   ],
   "source": [
    "sdf=pd.read_csv('./data/sharks.csv',low_memory=False)\n",
    "print(sdf.dtypes)\n",
    "print(sdf.iloc[150:200,4:5],'\\n')"
   ]
  },
  {
   "cell_type": "code",
   "execution_count": null,
   "metadata": {},
   "outputs": [],
   "source": []
  }
 ],
 "metadata": {
  "kernelspec": {
   "display_name": "Python 3",
   "language": "python",
   "name": "python3"
  },
  "language_info": {
   "codemirror_mode": {
    "name": "ipython",
    "version": 3
   },
   "file_extension": ".py",
   "mimetype": "text/x-python",
   "name": "python",
   "nbconvert_exporter": "python",
   "pygments_lexer": "ipython3",
   "version": "3.8.8"
  }
 },
 "nbformat": 4,
 "nbformat_minor": 4
}
